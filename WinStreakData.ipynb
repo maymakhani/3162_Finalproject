{
 "cells": [
  {
   "cell_type": "code",
   "execution_count": 28,
   "id": "1c1f67bd",
   "metadata": {},
   "outputs": [],
   "source": [
    "#Import pandas and get data\n",
    "#CHANGE FILEPATH TO MATCH LOCATION OF international_matches.csv FROM KAGGLE\n",
    "import pandas as pd\n",
    "data = pd.read_csv(\"C:/Users/joshg/OneDrive/Desktop/DMProject/international_matches.csv\")\n"
   ]
  },
  {
   "cell_type": "code",
   "execution_count": 29,
   "id": "bb358d2f",
   "metadata": {},
   "outputs": [],
   "source": [
    "#Remove unnecessary columns\n",
    "data = data[[\"home_team\",\"away_team\",\"home_team_result\",\"date\"]]"
   ]
  },
  {
   "cell_type": "code",
   "execution_count": 30,
   "id": "d9b9bf57",
   "metadata": {},
   "outputs": [],
   "source": [
    "#Any draws break the winning streak of both teams involved\n",
    "#Draws perceived as losses by both sides\n",
    "data.insert(column=\"away_team_result\",loc=3,value=\"Lose\")\n",
    "data.loc[data[\"home_team_result\"] == \"Lose\", 'away_team_result'] = 'Win' \n",
    "data.loc[data[\"home_team_result\"] == \"Draw\", 'home_team_result'] = 'Lose'"
   ]
  },
  {
   "cell_type": "code",
   "execution_count": 31,
   "id": "26b5ac5d",
   "metadata": {},
   "outputs": [],
   "source": [
    "#Split data to home and away, rename column headers to standardize\n",
    "awayData = data[[\"away_team\",\"away_team_result\",\"date\"]]\n",
    "awayData = awayData.rename(columns={\"away_team\": \"team\", \"away_team_result\": \"result\"})\n",
    "homeData = data[[\"home_team\",\"home_team_result\",\"date\"]]\n",
    "homeData = homeData.rename(columns={\"home_team\": \"team\", \"home_team_result\": \"result\"})"
   ]
  },
  {
   "cell_type": "code",
   "execution_count": 32,
   "id": "6ad36ffe",
   "metadata": {},
   "outputs": [],
   "source": [
    "#Create one dataset treating each team separately with team, result, and date\n",
    "data = pd.concat([homeData,awayData])\n",
    "\n",
    "#Sort table by team name with each team's matches in chronological order\n",
    "data = data.sort_values(by = ['team', 'date'], ascending = [True, True])"
   ]
  },
  {
   "cell_type": "code",
   "execution_count": 33,
   "id": "c27dadc1",
   "metadata": {},
   "outputs": [],
   "source": [
    "#Increment streak counter for each consecutive matching value\n",
    "data['streak'] = data['result'].groupby((data['result'] != data.groupby(['team'])['result'].shift()).cumsum()).cumcount() + 1\n",
    "\n",
    "#Override all losses to have a streak of 0\n",
    "data.loc[data[\"result\"] == \"Lose\", 'streak'] = 0 "
   ]
  },
  {
   "cell_type": "code",
   "execution_count": 34,
   "id": "9a07021a",
   "metadata": {},
   "outputs": [],
   "source": [
    "#Sort table by team name with each team's win streaks listed highest first\n",
    "data = data.sort_values(by = [\"team\", \"streak\"], ascending = [True, False])\n",
    "\n",
    "#Drop duplicates based on team name, keeping only first entry which contains highest streak by our previous sorting step\n",
    "data = data.drop_duplicates(subset=\"team\")"
   ]
  },
  {
   "cell_type": "code",
   "execution_count": 35,
   "id": "90a3eaad",
   "metadata": {},
   "outputs": [
    {
     "name": "stdout",
     "output_type": "stream",
     "text": [
      "AxesSubplot(0.125,0.125;0.775x0.755)\n"
     ]
    },
    {
     "data": {
      "image/png": "[encoded data removed]",
      "text/plain": [
       "<Figure size 432x288 with 1 Axes>"
      ]
     },
     "metadata": {
      "needs_background": "light"
     },
     "output_type": "display_data"
    }
   ],
   "source": [
    "plot = data.plot.scatter('team','streak')\n",
    "plot.axes.get_xaxis().set_visible(False)\n",
    "\n",
    "print(plot)\n"
   ]
  },
  {
   "cell_type": "code",
   "execution_count": 36,
   "id": "a72fbc12",
   "metadata": {},
   "outputs": [
    {
     "name": "stdout",
     "output_type": "stream",
     "text": [
      "The longest consecutive win streak was 25 by Spain\n",
      "The average best win streak was 5.48\n",
      "The median best win streak was 5.00\n",
      "The most common best win streak was 5.00\n"
     ]
    }
   ],
   "source": [
    "#Sort by streak, highest first\n",
    "data = data.sort_values(by = [\"streak\"], ascending = [False])\n",
    "print(\"The longest consecutive win streak was \" + str(data.iloc[0]['streak']) + \" by \" + str(data.iloc[0]['team'])\n",
    ")\n",
    "\n",
    "print(\"The average best win streak was \"+ '%.2f' % data['streak'].mean())\n",
    "print(\"The median best win streak was \"+ '%.2f' % data['streak'].median())\n",
    "print(\"The most common best win streak was \"+ '%.2f' % data['streak'].mode())"
   ]
  },
  {
   "cell_type": "code",
   "execution_count": 37,
   "id": "e382c2ff",
   "metadata": {},
   "outputs": [
    {
     "data": {
      "text/plain": [
       "<AxesSubplot:xlabel='streak', ylabel='count'>"
      ]
     },
     "execution_count": 37,
     "metadata": {},
     "output_type": "execute_result"
    },
    {
     "data": {
      "image/png": "[encoded data removed]",
      "text/plain": [
       "<Figure size 432x288 with 1 Axes>"
      ]
     },
     "metadata": {
      "needs_background": "light"
     },
     "output_type": "display_data"
    }
   ],
   "source": [
    "import seaborn as sns\n",
    "sns.countplot(x=data[\"streak\"])"
   ]
  },
  {
   "cell_type": "code",
   "execution_count": null,
   "id": "4370c982",
   "metadata": {},
   "outputs": [],
   "source": []
  }
 ],
 "metadata": {
  "kernelspec": {
   "display_name": "Python 3 (ipykernel)",
   "language": "python",
   "name": "python3"
  },
  "language_info": {
   "codemirror_mode": {
    "name": "ipython",
    "version": 3
   },
   "file_extension": ".py",
   "mimetype": "text/x-python",
   "name": "python",
   "nbconvert_exporter": "python",
   "pygments_lexer": "ipython3",
   "version": "3.9.12"
  }
 },
 "nbformat": 4,
 "nbformat_minor": 5
}
